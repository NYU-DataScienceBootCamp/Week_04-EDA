{
  "nbformat": 4,
  "nbformat_minor": 0,
  "metadata": {
    "colab": {
      "name": "W4:COVID-19_Mobility-Solutions.ipynb",
      "provenance": [],
      "collapsed_sections": [],
      "toc_visible": true
    },
    "kernelspec": {
      "name": "python3",
      "display_name": "Python 3"
    }
  },
  "cells": [
    {
      "cell_type": "markdown",
      "metadata": {
        "id": "2IU8vPgFTAbG"
      },
      "source": [
        "# Week 04: Exploratory Data Analysis"
      ]
    },
    {
      "cell_type": "markdown",
      "metadata": {
        "id": "dSzVhu-aTAbH"
      },
      "source": [
        "## COVID-19 Community Mobility Data\n",
        "\n",
        "\n",
        "In this task, we will practice using exploratory data analysis on\n",
        "Google’s COVID-19 Community Mobility data.\n",
        "\n",
        "This data was collected from Google Maps users around the world over the\n",
        "last few months - including you, *if* you have Google Maps on your phone\n",
        "and have turned on the Location History setting. It combines location\n",
        "history from a large number of users to capture the overall increase or\n",
        "decrease in time spent in places such as: retail and recreation\n",
        "facilities, groceries and pharmacies, parks, transit stations,\n",
        "workplaces, and residences."
      ]
    },
    {
      "cell_type": "markdown",
      "metadata": {
        "id": "MySC75cNTAbI"
      },
      "source": [
        "Learn about the data\n",
        "--------------------\n",
        "\n",
        "First, it is worthwhile to learn more about the data: how it is\n",
        "collected, what is included, how Google gets consent to collect this\n",
        "data, and how user privacy is protected. Google provides several\n",
        "resources for learning about the data:\n",
        "\n",
        "-   [Blog\n",
        "    post](https://www.blog.google/technology/health/covid-19-community-mobility-reports?hl=en)\n",
        "-   [About this\n",
        "    data](https://www.google.com/covid19/mobility/data_documentation.html?hl=en#about-this-data)\n",
        "-   [Understand the\n",
        "    data](https://support.google.com/covid19-mobility/answer/9825414?hl=en&ref_topic=9822927)"
      ]
    },
    {
      "cell_type": "markdown",
      "metadata": {
        "id": "ZuMxjnsXTAbJ"
      },
      "source": [
        "Read in data\n",
        "------------\n",
        "\n",
        "Now you are ready to read the data into your notebook.\n",
        "\n",
        "Visit Google’s web page for the [COVID-19 Community\n",
        "Mobility](https://www.google.com/covid19/mobility/) project to get the\n",
        "URL for the data."
      ]
    },
    {
      "cell_type": "code",
      "metadata": {
        "id": "svcQqtFUTAbK"
      },
      "source": [
        "import pandas as pd\n",
        "import seaborn as sns\n",
        "import matplotlib.pyplot as plt"
      ],
      "execution_count": null,
      "outputs": []
    },
    {
      "cell_type": "code",
      "metadata": {
        "id": "v4PWbQeqTAbQ",
        "colab": {
          "base_uri": "https://localhost:8080/"
        },
        "outputId": "6718196f-3a72-4932-e85f-12401b013487"
      },
      "source": [
        "# Import the URL\n",
        "\n",
        "url = 'https://www.gstatic.com/covid19/mobility/Global_Mobility_Report.csv'\n",
        "df = pd.read_csv(url)"
      ],
      "execution_count": null,
      "outputs": [
        {
          "output_type": "stream",
          "text": [
            "/usr/local/lib/python3.7/dist-packages/IPython/core/interactiveshell.py:2718: DtypeWarning: Columns (4,5) have mixed types.Specify dtype option on import or set low_memory=False.\n",
            "  interactivity=interactivity, compiler=compiler, result=result)\n"
          ],
          "name": "stderr"
        }
      ]
    },
    {
      "cell_type": "markdown",
      "metadata": {
        "id": "mQ5uQbSbTAbW"
      },
      "source": [
        "### TODO 1\n",
        "\n",
        "Use the `head()` function to look at the first few samples"
      ]
    },
    {
      "cell_type": "code",
      "metadata": {
        "id": "skRlis3dTAbd",
        "colab": {
          "base_uri": "https://localhost:8080/",
          "height": 301
        },
        "outputId": "53e70aa4-cc02-439c-a395-c0b65f5bea82"
      },
      "source": [
        "# Run code here\n",
        "\n",
        "df.head()"
      ],
      "execution_count": null,
      "outputs": [
        {
          "output_type": "execute_result",
          "data": {
            "text/html": [
              "<div>\n",
              "<style scoped>\n",
              "    .dataframe tbody tr th:only-of-type {\n",
              "        vertical-align: middle;\n",
              "    }\n",
              "\n",
              "    .dataframe tbody tr th {\n",
              "        vertical-align: top;\n",
              "    }\n",
              "\n",
              "    .dataframe thead th {\n",
              "        text-align: right;\n",
              "    }\n",
              "</style>\n",
              "<table border=\"1\" class=\"dataframe\">\n",
              "  <thead>\n",
              "    <tr style=\"text-align: right;\">\n",
              "      <th></th>\n",
              "      <th>country_region_code</th>\n",
              "      <th>country_region</th>\n",
              "      <th>sub_region_1</th>\n",
              "      <th>sub_region_2</th>\n",
              "      <th>metro_area</th>\n",
              "      <th>iso_3166_2_code</th>\n",
              "      <th>census_fips_code</th>\n",
              "      <th>place_id</th>\n",
              "      <th>date</th>\n",
              "      <th>retail_and_recreation_percent_change_from_baseline</th>\n",
              "      <th>grocery_and_pharmacy_percent_change_from_baseline</th>\n",
              "      <th>parks_percent_change_from_baseline</th>\n",
              "      <th>transit_stations_percent_change_from_baseline</th>\n",
              "      <th>workplaces_percent_change_from_baseline</th>\n",
              "      <th>residential_percent_change_from_baseline</th>\n",
              "    </tr>\n",
              "  </thead>\n",
              "  <tbody>\n",
              "    <tr>\n",
              "      <th>0</th>\n",
              "      <td>AE</td>\n",
              "      <td>United Arab Emirates</td>\n",
              "      <td>NaN</td>\n",
              "      <td>NaN</td>\n",
              "      <td>NaN</td>\n",
              "      <td>NaN</td>\n",
              "      <td>NaN</td>\n",
              "      <td>ChIJvRKrsd9IXj4RpwoIwFYv0zM</td>\n",
              "      <td>2020-02-15</td>\n",
              "      <td>0.0</td>\n",
              "      <td>4.0</td>\n",
              "      <td>5.0</td>\n",
              "      <td>0.0</td>\n",
              "      <td>2.0</td>\n",
              "      <td>1.0</td>\n",
              "    </tr>\n",
              "    <tr>\n",
              "      <th>1</th>\n",
              "      <td>AE</td>\n",
              "      <td>United Arab Emirates</td>\n",
              "      <td>NaN</td>\n",
              "      <td>NaN</td>\n",
              "      <td>NaN</td>\n",
              "      <td>NaN</td>\n",
              "      <td>NaN</td>\n",
              "      <td>ChIJvRKrsd9IXj4RpwoIwFYv0zM</td>\n",
              "      <td>2020-02-16</td>\n",
              "      <td>1.0</td>\n",
              "      <td>4.0</td>\n",
              "      <td>4.0</td>\n",
              "      <td>1.0</td>\n",
              "      <td>2.0</td>\n",
              "      <td>1.0</td>\n",
              "    </tr>\n",
              "    <tr>\n",
              "      <th>2</th>\n",
              "      <td>AE</td>\n",
              "      <td>United Arab Emirates</td>\n",
              "      <td>NaN</td>\n",
              "      <td>NaN</td>\n",
              "      <td>NaN</td>\n",
              "      <td>NaN</td>\n",
              "      <td>NaN</td>\n",
              "      <td>ChIJvRKrsd9IXj4RpwoIwFYv0zM</td>\n",
              "      <td>2020-02-17</td>\n",
              "      <td>-1.0</td>\n",
              "      <td>1.0</td>\n",
              "      <td>5.0</td>\n",
              "      <td>1.0</td>\n",
              "      <td>2.0</td>\n",
              "      <td>1.0</td>\n",
              "    </tr>\n",
              "    <tr>\n",
              "      <th>3</th>\n",
              "      <td>AE</td>\n",
              "      <td>United Arab Emirates</td>\n",
              "      <td>NaN</td>\n",
              "      <td>NaN</td>\n",
              "      <td>NaN</td>\n",
              "      <td>NaN</td>\n",
              "      <td>NaN</td>\n",
              "      <td>ChIJvRKrsd9IXj4RpwoIwFYv0zM</td>\n",
              "      <td>2020-02-18</td>\n",
              "      <td>-2.0</td>\n",
              "      <td>1.0</td>\n",
              "      <td>5.0</td>\n",
              "      <td>0.0</td>\n",
              "      <td>2.0</td>\n",
              "      <td>1.0</td>\n",
              "    </tr>\n",
              "    <tr>\n",
              "      <th>4</th>\n",
              "      <td>AE</td>\n",
              "      <td>United Arab Emirates</td>\n",
              "      <td>NaN</td>\n",
              "      <td>NaN</td>\n",
              "      <td>NaN</td>\n",
              "      <td>NaN</td>\n",
              "      <td>NaN</td>\n",
              "      <td>ChIJvRKrsd9IXj4RpwoIwFYv0zM</td>\n",
              "      <td>2020-02-19</td>\n",
              "      <td>-2.0</td>\n",
              "      <td>0.0</td>\n",
              "      <td>4.0</td>\n",
              "      <td>-1.0</td>\n",
              "      <td>2.0</td>\n",
              "      <td>1.0</td>\n",
              "    </tr>\n",
              "  </tbody>\n",
              "</table>\n",
              "</div>"
            ],
            "text/plain": [
              "  country_region_code  ... residential_percent_change_from_baseline\n",
              "0                  AE  ...                                      1.0\n",
              "1                  AE  ...                                      1.0\n",
              "2                  AE  ...                                      1.0\n",
              "3                  AE  ...                                      1.0\n",
              "4                  AE  ...                                      1.0\n",
              "\n",
              "[5 rows x 15 columns]"
            ]
          },
          "metadata": {
            "tags": []
          },
          "execution_count": 3
        }
      ]
    },
    {
      "cell_type": "markdown",
      "metadata": {
        "id": "jxypCpAhcKAn"
      },
      "source": [
        "### TODO 2\n",
        "\n",
        "Use the `info()` function to look at the information"
      ]
    },
    {
      "cell_type": "code",
      "metadata": {
        "id": "43-cCRfpTAbX",
        "colab": {
          "base_uri": "https://localhost:8080/"
        },
        "outputId": "bd92e4b5-ef73-4cea-de7e-5f9f83bca6c7"
      },
      "source": [
        "# Run code here\n",
        "\n",
        "df.info()"
      ],
      "execution_count": null,
      "outputs": [
        {
          "output_type": "stream",
          "text": [
            "<class 'pandas.core.frame.DataFrame'>\n",
            "RangeIndex: 5969899 entries, 0 to 5969898\n",
            "Data columns (total 15 columns):\n",
            " #   Column                                              Dtype  \n",
            "---  ------                                              -----  \n",
            " 0   country_region_code                                 object \n",
            " 1   country_region                                      object \n",
            " 2   sub_region_1                                        object \n",
            " 3   sub_region_2                                        object \n",
            " 4   metro_area                                          object \n",
            " 5   iso_3166_2_code                                     object \n",
            " 6   census_fips_code                                    float64\n",
            " 7   place_id                                            object \n",
            " 8   date                                                object \n",
            " 9   retail_and_recreation_percent_change_from_baseline  float64\n",
            " 10  grocery_and_pharmacy_percent_change_from_baseline   float64\n",
            " 11  parks_percent_change_from_baseline                  float64\n",
            " 12  transit_stations_percent_change_from_baseline       float64\n",
            " 13  workplaces_percent_change_from_baseline             float64\n",
            " 14  residential_percent_change_from_baseline            float64\n",
            "dtypes: float64(7), object(8)\n",
            "memory usage: 683.2+ MB\n"
          ],
          "name": "stdout"
        }
      ]
    },
    {
      "cell_type": "markdown",
      "metadata": {
        "id": "Iw0YZ-I5TAbi"
      },
      "source": [
        "Basic data manipulations\n",
        "------------------------"
      ]
    },
    {
      "cell_type": "markdown",
      "metadata": {
        "id": "sTABdHNlTAbk"
      },
      "source": [
        "### TODO 3\n",
        "\n",
        "The data includes a date field, but it may have been read in as a\n",
        "string, rather than as a `datetime`. If that’s the case, use\n",
        "`to_datetime()` to convert the field into a datetime format. (You can\n",
        "follow the example in the “Exploratory data analysis” notebook from this\n",
        "week’s lesson.)\n",
        "\n",
        "Then, use `info()` again to make sure your change was applied. Note the\n",
        "difference in the output, relative to the cell above."
      ]
    },
    {
      "cell_type": "code",
      "metadata": {
        "id": "P-PKfC2ITAbm",
        "colab": {
          "base_uri": "https://localhost:8080/"
        },
        "outputId": "2117440b-9d62-4011-9828-2d9d5384da3d"
      },
      "source": [
        "# Run code here\n",
        "\n",
        "df['date'] = pd.to_datetime(df['date'])\n",
        "df.info()"
      ],
      "execution_count": null,
      "outputs": [
        {
          "output_type": "stream",
          "text": [
            "<class 'pandas.core.frame.DataFrame'>\n",
            "RangeIndex: 5969899 entries, 0 to 5969898\n",
            "Data columns (total 15 columns):\n",
            " #   Column                                              Dtype         \n",
            "---  ------                                              -----         \n",
            " 0   country_region_code                                 object        \n",
            " 1   country_region                                      object        \n",
            " 2   sub_region_1                                        object        \n",
            " 3   sub_region_2                                        object        \n",
            " 4   metro_area                                          object        \n",
            " 5   iso_3166_2_code                                     object        \n",
            " 6   census_fips_code                                    float64       \n",
            " 7   place_id                                            object        \n",
            " 8   date                                                datetime64[ns]\n",
            " 9   retail_and_recreation_percent_change_from_baseline  float64       \n",
            " 10  grocery_and_pharmacy_percent_change_from_baseline   float64       \n",
            " 11  parks_percent_change_from_baseline                  float64       \n",
            " 12  transit_stations_percent_change_from_baseline       float64       \n",
            " 13  workplaces_percent_change_from_baseline             float64       \n",
            " 14  residential_percent_change_from_baseline            float64       \n",
            "dtypes: datetime64[ns](1), float64(7), object(7)\n",
            "memory usage: 683.2+ MB\n"
          ],
          "name": "stdout"
        }
      ]
    },
    {
      "cell_type": "markdown",
      "metadata": {
        "id": "QGjAp1D7TAbq"
      },
      "source": [
        "### TODO 4\n",
        "\n",
        "Next, you are going to extract the subset of data for the location of\n",
        "your choice.\n",
        "\n",
        "The data is reported for different regions, with different levels of\n",
        "granularity available. This is best explained by example:\n",
        "\n",
        "Suppose I want the overall trend from the entire U.S. I would use the\n",
        "subset of data where `country_region` is equal to “United States” and\n",
        "`sub_region_1` is null:\n",
        "\n",
        "    df_subset = df[(df['country_region'].eq(\"United States\")) & (df['sub_region_1'].isnull())]\n",
        "\n",
        "Suppose I want the overall trend from the entire state of New York: I\n",
        "would use the subset of data where `country_region` is equal to “United\n",
        "States”, `sub_region_1` is equal to “New York”, and `sub_region_2` is\n",
        "null:\n",
        "\n",
        "    df_subset = df[(df['country_region'].eq(\"United States\")) & (df['sub_region_1'].eq(\"New York\")) & (df['sub_region_2'].isnull())]\n",
        "\n",
        "Suppose I want the overall trend from Brooklyn, New York (Kings County):\n",
        "I would use the subset of data where `country_region` is equal to\n",
        "“United States”, `sub_region_1` is equal to “New York”, and\n",
        "`sub_region_2` is equal to “Kings County”:\n",
        "\n",
        "    df_subset = df[(df['country_region'].eq(\"United States\")) & (df['sub_region_1'].eq(\"New York\")) & (df['sub_region_2'].eq(\"Kings County\"))]\n",
        "\n",
        "In the following cell(s), fill in the code to create a data frame\n",
        "`df_subset` with data from a single location. You can go down to the\n",
        "`sub_region_1` level or the `sub_region_2` level - depending on the\n",
        "location you chose, the finer level of granularity may not be available."
      ]
    },
    {
      "cell_type": "code",
      "metadata": {
        "id": "FtOsm54HmpS1"
      },
      "source": [
        "# Run code here\n",
        "\n",
        "df_subset = df[(df['country_region'].eq(\"United States\")) & (df['sub_region_1'].eq(\"New York\")) & (df['sub_region_2'].isnull())]"
      ],
      "execution_count": null,
      "outputs": []
    },
    {
      "cell_type": "code",
      "metadata": {
        "colab": {
          "base_uri": "https://localhost:8080/",
          "height": 591
        },
        "id": "BBvEDSf9mtwx",
        "outputId": "28e77595-3ee1-4675-adec-bb93dff1558e"
      },
      "source": [
        "df_subset"
      ],
      "execution_count": null,
      "outputs": [
        {
          "output_type": "execute_result",
          "data": {
            "text/html": [
              "<div>\n",
              "<style scoped>\n",
              "    .dataframe tbody tr th:only-of-type {\n",
              "        vertical-align: middle;\n",
              "    }\n",
              "\n",
              "    .dataframe tbody tr th {\n",
              "        vertical-align: top;\n",
              "    }\n",
              "\n",
              "    .dataframe thead th {\n",
              "        text-align: right;\n",
              "    }\n",
              "</style>\n",
              "<table border=\"1\" class=\"dataframe\">\n",
              "  <thead>\n",
              "    <tr style=\"text-align: right;\">\n",
              "      <th></th>\n",
              "      <th>country_region_code</th>\n",
              "      <th>country_region</th>\n",
              "      <th>sub_region_1</th>\n",
              "      <th>sub_region_2</th>\n",
              "      <th>metro_area</th>\n",
              "      <th>iso_3166_2_code</th>\n",
              "      <th>census_fips_code</th>\n",
              "      <th>place_id</th>\n",
              "      <th>date</th>\n",
              "      <th>retail_and_recreation_percent_change_from_baseline</th>\n",
              "      <th>grocery_and_pharmacy_percent_change_from_baseline</th>\n",
              "      <th>parks_percent_change_from_baseline</th>\n",
              "      <th>transit_stations_percent_change_from_baseline</th>\n",
              "      <th>workplaces_percent_change_from_baseline</th>\n",
              "      <th>residential_percent_change_from_baseline</th>\n",
              "    </tr>\n",
              "  </thead>\n",
              "  <tbody>\n",
              "    <tr>\n",
              "      <th>5364627</th>\n",
              "      <td>US</td>\n",
              "      <td>United States</td>\n",
              "      <td>New York</td>\n",
              "      <td>NaN</td>\n",
              "      <td>NaN</td>\n",
              "      <td>US-NY</td>\n",
              "      <td>NaN</td>\n",
              "      <td>ChIJqaUj8fBLzEwRZ5UY3sHGz90</td>\n",
              "      <td>2020-02-15</td>\n",
              "      <td>3.0</td>\n",
              "      <td>-4.0</td>\n",
              "      <td>-2.0</td>\n",
              "      <td>-4.0</td>\n",
              "      <td>1.0</td>\n",
              "      <td>0.0</td>\n",
              "    </tr>\n",
              "    <tr>\n",
              "      <th>5364628</th>\n",
              "      <td>US</td>\n",
              "      <td>United States</td>\n",
              "      <td>New York</td>\n",
              "      <td>NaN</td>\n",
              "      <td>NaN</td>\n",
              "      <td>US-NY</td>\n",
              "      <td>NaN</td>\n",
              "      <td>ChIJqaUj8fBLzEwRZ5UY3sHGz90</td>\n",
              "      <td>2020-02-16</td>\n",
              "      <td>7.0</td>\n",
              "      <td>-3.0</td>\n",
              "      <td>13.0</td>\n",
              "      <td>0.0</td>\n",
              "      <td>0.0</td>\n",
              "      <td>-1.0</td>\n",
              "    </tr>\n",
              "    <tr>\n",
              "      <th>5364629</th>\n",
              "      <td>US</td>\n",
              "      <td>United States</td>\n",
              "      <td>New York</td>\n",
              "      <td>NaN</td>\n",
              "      <td>NaN</td>\n",
              "      <td>US-NY</td>\n",
              "      <td>NaN</td>\n",
              "      <td>ChIJqaUj8fBLzEwRZ5UY3sHGz90</td>\n",
              "      <td>2020-02-17</td>\n",
              "      <td>7.0</td>\n",
              "      <td>-2.0</td>\n",
              "      <td>23.0</td>\n",
              "      <td>-22.0</td>\n",
              "      <td>-37.0</td>\n",
              "      <td>9.0</td>\n",
              "    </tr>\n",
              "    <tr>\n",
              "      <th>5364630</th>\n",
              "      <td>US</td>\n",
              "      <td>United States</td>\n",
              "      <td>New York</td>\n",
              "      <td>NaN</td>\n",
              "      <td>NaN</td>\n",
              "      <td>US-NY</td>\n",
              "      <td>NaN</td>\n",
              "      <td>ChIJqaUj8fBLzEwRZ5UY3sHGz90</td>\n",
              "      <td>2020-02-18</td>\n",
              "      <td>-2.0</td>\n",
              "      <td>-5.0</td>\n",
              "      <td>-4.0</td>\n",
              "      <td>-5.0</td>\n",
              "      <td>-10.0</td>\n",
              "      <td>3.0</td>\n",
              "    </tr>\n",
              "    <tr>\n",
              "      <th>5364631</th>\n",
              "      <td>US</td>\n",
              "      <td>United States</td>\n",
              "      <td>New York</td>\n",
              "      <td>NaN</td>\n",
              "      <td>NaN</td>\n",
              "      <td>US-NY</td>\n",
              "      <td>NaN</td>\n",
              "      <td>ChIJqaUj8fBLzEwRZ5UY3sHGz90</td>\n",
              "      <td>2020-02-19</td>\n",
              "      <td>3.0</td>\n",
              "      <td>-2.0</td>\n",
              "      <td>11.0</td>\n",
              "      <td>-3.0</td>\n",
              "      <td>-9.0</td>\n",
              "      <td>2.0</td>\n",
              "    </tr>\n",
              "    <tr>\n",
              "      <th>...</th>\n",
              "      <td>...</td>\n",
              "      <td>...</td>\n",
              "      <td>...</td>\n",
              "      <td>...</td>\n",
              "      <td>...</td>\n",
              "      <td>...</td>\n",
              "      <td>...</td>\n",
              "      <td>...</td>\n",
              "      <td>...</td>\n",
              "      <td>...</td>\n",
              "      <td>...</td>\n",
              "      <td>...</td>\n",
              "      <td>...</td>\n",
              "      <td>...</td>\n",
              "      <td>...</td>\n",
              "    </tr>\n",
              "    <tr>\n",
              "      <th>5365124</th>\n",
              "      <td>US</td>\n",
              "      <td>United States</td>\n",
              "      <td>New York</td>\n",
              "      <td>NaN</td>\n",
              "      <td>NaN</td>\n",
              "      <td>US-NY</td>\n",
              "      <td>NaN</td>\n",
              "      <td>ChIJqaUj8fBLzEwRZ5UY3sHGz90</td>\n",
              "      <td>2021-06-26</td>\n",
              "      <td>-12.0</td>\n",
              "      <td>-1.0</td>\n",
              "      <td>98.0</td>\n",
              "      <td>-21.0</td>\n",
              "      <td>-15.0</td>\n",
              "      <td>-1.0</td>\n",
              "    </tr>\n",
              "    <tr>\n",
              "      <th>5365125</th>\n",
              "      <td>US</td>\n",
              "      <td>United States</td>\n",
              "      <td>New York</td>\n",
              "      <td>NaN</td>\n",
              "      <td>NaN</td>\n",
              "      <td>US-NY</td>\n",
              "      <td>NaN</td>\n",
              "      <td>ChIJqaUj8fBLzEwRZ5UY3sHGz90</td>\n",
              "      <td>2021-06-27</td>\n",
              "      <td>-7.0</td>\n",
              "      <td>-4.0</td>\n",
              "      <td>119.0</td>\n",
              "      <td>-20.0</td>\n",
              "      <td>-16.0</td>\n",
              "      <td>-1.0</td>\n",
              "    </tr>\n",
              "    <tr>\n",
              "      <th>5365126</th>\n",
              "      <td>US</td>\n",
              "      <td>United States</td>\n",
              "      <td>New York</td>\n",
              "      <td>NaN</td>\n",
              "      <td>NaN</td>\n",
              "      <td>US-NY</td>\n",
              "      <td>NaN</td>\n",
              "      <td>ChIJqaUj8fBLzEwRZ5UY3sHGz90</td>\n",
              "      <td>2021-06-28</td>\n",
              "      <td>-10.0</td>\n",
              "      <td>-1.0</td>\n",
              "      <td>53.0</td>\n",
              "      <td>-38.0</td>\n",
              "      <td>-40.0</td>\n",
              "      <td>6.0</td>\n",
              "    </tr>\n",
              "    <tr>\n",
              "      <th>5365127</th>\n",
              "      <td>US</td>\n",
              "      <td>United States</td>\n",
              "      <td>New York</td>\n",
              "      <td>NaN</td>\n",
              "      <td>NaN</td>\n",
              "      <td>US-NY</td>\n",
              "      <td>NaN</td>\n",
              "      <td>ChIJqaUj8fBLzEwRZ5UY3sHGz90</td>\n",
              "      <td>2021-06-29</td>\n",
              "      <td>-12.0</td>\n",
              "      <td>-2.0</td>\n",
              "      <td>49.0</td>\n",
              "      <td>-38.0</td>\n",
              "      <td>-40.0</td>\n",
              "      <td>7.0</td>\n",
              "    </tr>\n",
              "    <tr>\n",
              "      <th>5365128</th>\n",
              "      <td>US</td>\n",
              "      <td>United States</td>\n",
              "      <td>New York</td>\n",
              "      <td>NaN</td>\n",
              "      <td>NaN</td>\n",
              "      <td>US-NY</td>\n",
              "      <td>NaN</td>\n",
              "      <td>ChIJqaUj8fBLzEwRZ5UY3sHGz90</td>\n",
              "      <td>2021-06-30</td>\n",
              "      <td>-10.0</td>\n",
              "      <td>1.0</td>\n",
              "      <td>45.0</td>\n",
              "      <td>-37.0</td>\n",
              "      <td>-39.0</td>\n",
              "      <td>8.0</td>\n",
              "    </tr>\n",
              "  </tbody>\n",
              "</table>\n",
              "<p>502 rows × 15 columns</p>\n",
              "</div>"
            ],
            "text/plain": [
              "        country_region_code  ... residential_percent_change_from_baseline\n",
              "5364627                  US  ...                                      0.0\n",
              "5364628                  US  ...                                     -1.0\n",
              "5364629                  US  ...                                      9.0\n",
              "5364630                  US  ...                                      3.0\n",
              "5364631                  US  ...                                      2.0\n",
              "...                     ...  ...                                      ...\n",
              "5365124                  US  ...                                     -1.0\n",
              "5365125                  US  ...                                     -1.0\n",
              "5365126                  US  ...                                      6.0\n",
              "5365127                  US  ...                                      7.0\n",
              "5365128                  US  ...                                      8.0\n",
              "\n",
              "[502 rows x 15 columns]"
            ]
          },
          "metadata": {
            "tags": []
          },
          "execution_count": 9
        }
      ]
    },
    {
      "cell_type": "markdown",
      "metadata": {
        "id": "VVHLU2kQTAbx"
      },
      "source": [
        "### TODO 5\n",
        "\n",
        "Is the data complete, or is some data not available for the location you\n",
        "have chosen? In the following cell, write code to check for missing data\n",
        "in the `...percent_change_from_baseline` fields.\n",
        "\n",
        "**HINT:** Use `info()`"
      ]
    },
    {
      "cell_type": "code",
      "metadata": {
        "id": "ac1mIisdTAby",
        "colab": {
          "base_uri": "https://localhost:8080/"
        },
        "outputId": "e19ee143-bc84-4c45-c0bf-9ddb5a9d9714"
      },
      "source": [
        "# Check for missing data\n",
        "\n",
        "df_subset.info()"
      ],
      "execution_count": null,
      "outputs": [
        {
          "output_type": "stream",
          "text": [
            "<class 'pandas.core.frame.DataFrame'>\n",
            "Int64Index: 502 entries, 5364627 to 5365128\n",
            "Data columns (total 15 columns):\n",
            " #   Column                                              Non-Null Count  Dtype         \n",
            "---  ------                                              --------------  -----         \n",
            " 0   country_region_code                                 502 non-null    object        \n",
            " 1   country_region                                      502 non-null    object        \n",
            " 2   sub_region_1                                        502 non-null    object        \n",
            " 3   sub_region_2                                        0 non-null      object        \n",
            " 4   metro_area                                          0 non-null      object        \n",
            " 5   iso_3166_2_code                                     502 non-null    object        \n",
            " 6   census_fips_code                                    0 non-null      float64       \n",
            " 7   place_id                                            502 non-null    object        \n",
            " 8   date                                                502 non-null    datetime64[ns]\n",
            " 9   retail_and_recreation_percent_change_from_baseline  502 non-null    float64       \n",
            " 10  grocery_and_pharmacy_percent_change_from_baseline   502 non-null    float64       \n",
            " 11  parks_percent_change_from_baseline                  502 non-null    float64       \n",
            " 12  transit_stations_percent_change_from_baseline       502 non-null    float64       \n",
            " 13  workplaces_percent_change_from_baseline             502 non-null    float64       \n",
            " 14  residential_percent_change_from_baseline            502 non-null    float64       \n",
            "dtypes: datetime64[ns](1), float64(7), object(7)\n",
            "memory usage: 62.8+ KB\n"
          ],
          "name": "stdout"
        }
      ]
    },
    {
      "cell_type": "markdown",
      "metadata": {
        "id": "AepdQWIBdT2B"
      },
      "source": [
        "### TODO 6\n",
        "\n",
        "Edit the cell to answer the following question: Is the\n",
        "data complete, or is some relevant data missing? Why would some\n",
        "locations only have partial data available (missing some\n",
        "`...percent_change_from_baseline` fields for some dates)? </br> \n",
        "**Include a short quote from the material you read in the “Learn about the data”\n",
        "section to answer this question.**"
      ]
    },
    {
      "cell_type": "markdown",
      "metadata": {
        "id": "evz8F_e2dghF"
      },
      "source": [
        "**Answer:** </br>\n",
        "\n",
        "It is indicated that the data included in the calculation depends on user settings, connectivity, and whether it meets Google's privacy threshold. If the privacy threshold isn’t met (when somewhere isn’t busy enough to ensure anonymity) we don’t show a change for the day. As a result, you may encounter empty fields for certain places and dates.\n",
        "\n",
        "We include categories that are useful to social distancing efforts as well as access to essential services.\n",
        "\n",
        "We calculate these insights based on data from users who have opted-in to Location History for their Google Account, so the data represents a sample of our users. As with all samples, this may or may not represent the exact behavior of a wider population."
      ]
    },
    {
      "cell_type": "markdown",
      "metadata": {
        "id": "a0WhR2DOTAb5"
      },
      "source": [
        "### TODO 7\n",
        "\n",
        "For this data, the `date` field is important, but we don’t necessarily\n",
        "care about the absolute date. Instead, we care about how many days have\n",
        "elapsed since the first confirmed case of COVID-19 in this location, how\n",
        "many days have elapsed since a “stay at home” order or similar rule was\n",
        "established in this location (if there was one) and how many days have\n",
        "elapsed since it was lifted (if applicable).\n",
        "\n",
        "For example, in New York, I might compute:\n",
        "\n",
        "    days_since_lockdown = (df_subset['date'] - pd.to_datetime('2020-03-20 00:00:00')).dt.days.values\n",
        "    # NYC lockdown March 20, 2020 https://www.nytimes.com/2020/03/20/us/coronavirus-today.html"
      ]
    },
    {
      "cell_type": "code",
      "metadata": {
        "id": "5IIORbDKTAb6"
      },
      "source": [
        "# Run code here\n",
        "\n",
        "days_since_lockdown = (df_subset['date'] - pd.to_datetime('2020-03-20 00:00:00')).dt.days.values"
      ],
      "execution_count": null,
      "outputs": []
    },
    {
      "cell_type": "markdown",
      "metadata": {
        "id": "mAYBqjOHTAb9"
      },
      "source": [
        "## Visualize data"
      ]
    },
    {
      "cell_type": "markdown",
      "metadata": {
        "id": "o7wDKVoUd5ze"
      },
      "source": [
        "### TODO 8\n",
        "\n",
        "Finally, we are going to visualize the changes in human mobility over\n",
        "this time, for the location you have chosen.\n",
        "\n",
        "In the following cell, create a figure with six subplots, arranged\n",
        "vertically. On the horizontal axis, put the\n",
        "`days_since...` array you computed in the previous cell. On the vertical\n",
        "axes, show:\n",
        "\n",
        "-   `retail_and_recreation_percent_change_from_baseline` in the top\n",
        "    subplot\n",
        "-   `grocery_and_pharmacy_percent_change_from_baseline` in the next\n",
        "    subplot\n",
        "-   `parks_percent_change_from_baseline` in the next subplot\n",
        "-   `transit_stations_percent_change_from_baseline` in the next subplot\n",
        "-   `workplaces_percent_change_from_baseline` in the next subplot\n",
        "-   `residential_percent_change_from_baseline` in the bottom subplot"
      ]
    },
    {
      "cell_type": "code",
      "metadata": {
        "id": "g8Eo9nj4TAb-",
        "colab": {
          "base_uri": "https://localhost:8080/",
          "height": 877
        },
        "outputId": "207c571d-bfcc-4808-8d8b-39da09ded22d"
      },
      "source": [
        "# Run code here\n",
        "\n",
        "plt.figure(figsize=(8,15));\n",
        "\n",
        "ax1 = plt.subplot(6,1,1)\n",
        "\n",
        "plt.subplot(6,1,1, sharex=ax1);\n",
        "sns.lineplot(x=df_subset['date'], y=df_subset['retail_and_recreation_percent_change_from_baseline'])\n",
        "plt.ylabel(\"Retail/Rec.\");\n",
        "\n",
        "plt.subplot(6,1,2, sharex=ax1);\n",
        "sns.lineplot(x=df_subset['date'], y=df_subset['grocery_and_pharmacy_percent_change_from_baseline'])\n",
        "plt.ylabel(\"Grocery/Pharmacy\");\n",
        "\n",
        "plt.subplot(6,1,3, sharex=ax1);\n",
        "sns.lineplot(x=df_subset['date'], y=df_subset['parks_percent_change_from_baseline'])\n",
        "plt.ylabel(\"Parks\");\n",
        "\n",
        "plt.subplot(6,1,4, sharex=ax1);\n",
        "sns.lineplot(x=df_subset['date'], y=df_subset['transit_stations_percent_change_from_baseline'])\n",
        "plt.ylabel(\"Transit\");\n",
        "\n",
        "plt.subplot(6,1,5, sharex=ax1);\n",
        "sns.lineplot(x=df_subset['date'], y=df_subset['workplaces_percent_change_from_baseline'])\n",
        "plt.ylabel(\"Workplaces\");\n",
        "\n",
        "\n",
        "plt.subplot(6,1,6, sharex=ax1);\n",
        "sns.lineplot(x=df_subset['date'], y=df_subset['residential_percent_change_from_baseline'])\n",
        "plt.ylabel(\"Residential\");"
      ],
      "execution_count": null,
      "outputs": [
        {
          "output_type": "display_data",
          "data": {
            "image/png": "[encoded data removed]",
            "text/plain": [
              "<Figure size 576x1080 with 6 Axes>"
            ]
          },
          "metadata": {
            "tags": [],
            "needs_background": "light"
          }
        }
      ]
    },
    {
      "cell_type": "markdown",
      "metadata": {
        "id": "1taejI8seDqo"
      },
      "source": [
        "### TODO 9\n",
        "\n",
        "Answer the following question: Do the results seem to\n",
        "satisfy “common sense”? Explain, citing specific data from your plot to\n",
        "support your answer."
      ]
    },
    {
      "cell_type": "markdown",
      "metadata": {
        "id": "Kep_PP6jeIL5"
      },
      "source": [
        "**Answer:** </br>\n",
        "\n"
      ]
    },
    {
      "cell_type": "markdown",
      "metadata": {
        "id": "LUpv40HieMlx"
      },
      "source": [
        "## Vaccination Data (For Reference)"
      ]
    },
    {
      "cell_type": "markdown",
      "metadata": {
        "id": "61uBc33OfKTp"
      },
      "source": [
        "Now, let's look at some vaccinated data"
      ]
    },
    {
      "cell_type": "code",
      "metadata": {
        "id": "ZhCd9euUo4Hx"
      },
      "source": [
        "df_vax = pd.read_csv('https://github.com/owid/covid-19-data/raw/master/public/data/vaccinations/us_state_vaccinations.csv')"
      ],
      "execution_count": null,
      "outputs": []
    },
    {
      "cell_type": "code",
      "metadata": {
        "colab": {
          "base_uri": "https://localhost:8080/",
          "height": 301
        },
        "id": "TeQm-KFsfQg_",
        "outputId": "77366c9b-35fa-4d60-910f-087af588b414"
      },
      "source": [
        "df_vax.head()"
      ],
      "execution_count": null,
      "outputs": [
        {
          "output_type": "execute_result",
          "data": {
            "text/html": [
              "<div>\n",
              "<style scoped>\n",
              "    .dataframe tbody tr th:only-of-type {\n",
              "        vertical-align: middle;\n",
              "    }\n",
              "\n",
              "    .dataframe tbody tr th {\n",
              "        vertical-align: top;\n",
              "    }\n",
              "\n",
              "    .dataframe thead th {\n",
              "        text-align: right;\n",
              "    }\n",
              "</style>\n",
              "<table border=\"1\" class=\"dataframe\">\n",
              "  <thead>\n",
              "    <tr style=\"text-align: right;\">\n",
              "      <th></th>\n",
              "      <th>date</th>\n",
              "      <th>location</th>\n",
              "      <th>total_vaccinations</th>\n",
              "      <th>total_distributed</th>\n",
              "      <th>people_vaccinated</th>\n",
              "      <th>people_fully_vaccinated_per_hundred</th>\n",
              "      <th>total_vaccinations_per_hundred</th>\n",
              "      <th>people_fully_vaccinated</th>\n",
              "      <th>people_vaccinated_per_hundred</th>\n",
              "      <th>distributed_per_hundred</th>\n",
              "      <th>daily_vaccinations_raw</th>\n",
              "      <th>daily_vaccinations</th>\n",
              "      <th>daily_vaccinations_per_million</th>\n",
              "      <th>share_doses_used</th>\n",
              "    </tr>\n",
              "  </thead>\n",
              "  <tbody>\n",
              "    <tr>\n",
              "      <th>0</th>\n",
              "      <td>2021-01-12</td>\n",
              "      <td>Alabama</td>\n",
              "      <td>78134.0</td>\n",
              "      <td>377025.0</td>\n",
              "      <td>70861.0</td>\n",
              "      <td>0.15</td>\n",
              "      <td>1.59</td>\n",
              "      <td>7270.0</td>\n",
              "      <td>1.45</td>\n",
              "      <td>7.69</td>\n",
              "      <td>NaN</td>\n",
              "      <td>NaN</td>\n",
              "      <td>NaN</td>\n",
              "      <td>0.207</td>\n",
              "    </tr>\n",
              "    <tr>\n",
              "      <th>1</th>\n",
              "      <td>2021-01-13</td>\n",
              "      <td>Alabama</td>\n",
              "      <td>84040.0</td>\n",
              "      <td>378975.0</td>\n",
              "      <td>74792.0</td>\n",
              "      <td>0.19</td>\n",
              "      <td>1.71</td>\n",
              "      <td>9245.0</td>\n",
              "      <td>1.53</td>\n",
              "      <td>7.73</td>\n",
              "      <td>5906.0</td>\n",
              "      <td>5906.0</td>\n",
              "      <td>1205.0</td>\n",
              "      <td>0.222</td>\n",
              "    </tr>\n",
              "    <tr>\n",
              "      <th>2</th>\n",
              "      <td>2021-01-14</td>\n",
              "      <td>Alabama</td>\n",
              "      <td>92300.0</td>\n",
              "      <td>435350.0</td>\n",
              "      <td>80480.0</td>\n",
              "      <td>NaN</td>\n",
              "      <td>1.88</td>\n",
              "      <td>NaN</td>\n",
              "      <td>1.64</td>\n",
              "      <td>8.88</td>\n",
              "      <td>8260.0</td>\n",
              "      <td>7083.0</td>\n",
              "      <td>1445.0</td>\n",
              "      <td>0.212</td>\n",
              "    </tr>\n",
              "    <tr>\n",
              "      <th>3</th>\n",
              "      <td>2021-01-15</td>\n",
              "      <td>Alabama</td>\n",
              "      <td>100567.0</td>\n",
              "      <td>444650.0</td>\n",
              "      <td>86956.0</td>\n",
              "      <td>0.28</td>\n",
              "      <td>2.05</td>\n",
              "      <td>13488.0</td>\n",
              "      <td>1.77</td>\n",
              "      <td>9.07</td>\n",
              "      <td>8267.0</td>\n",
              "      <td>7478.0</td>\n",
              "      <td>1525.0</td>\n",
              "      <td>0.226</td>\n",
              "    </tr>\n",
              "    <tr>\n",
              "      <th>4</th>\n",
              "      <td>2021-01-16</td>\n",
              "      <td>Alabama</td>\n",
              "      <td>NaN</td>\n",
              "      <td>NaN</td>\n",
              "      <td>NaN</td>\n",
              "      <td>NaN</td>\n",
              "      <td>NaN</td>\n",
              "      <td>NaN</td>\n",
              "      <td>NaN</td>\n",
              "      <td>NaN</td>\n",
              "      <td>7557.0</td>\n",
              "      <td>7498.0</td>\n",
              "      <td>1529.0</td>\n",
              "      <td>NaN</td>\n",
              "    </tr>\n",
              "  </tbody>\n",
              "</table>\n",
              "</div>"
            ],
            "text/plain": [
              "         date location  ...  daily_vaccinations_per_million  share_doses_used\n",
              "0  2021-01-12  Alabama  ...                             NaN             0.207\n",
              "1  2021-01-13  Alabama  ...                          1205.0             0.222\n",
              "2  2021-01-14  Alabama  ...                          1445.0             0.212\n",
              "3  2021-01-15  Alabama  ...                          1525.0             0.226\n",
              "4  2021-01-16  Alabama  ...                          1529.0               NaN\n",
              "\n",
              "[5 rows x 14 columns]"
            ]
          },
          "metadata": {
            "tags": []
          },
          "execution_count": 14
        }
      ]
    },
    {
      "cell_type": "code",
      "metadata": {
        "colab": {
          "base_uri": "https://localhost:8080/"
        },
        "id": "_N-V7A_1fY1L",
        "outputId": "5a372e78-25dd-41b7-e77d-0e9a914f6ef1"
      },
      "source": [
        "df_vax.shape"
      ],
      "execution_count": null,
      "outputs": [
        {
          "output_type": "execute_result",
          "data": {
            "text/plain": [
              "(11333, 14)"
            ]
          },
          "metadata": {
            "tags": []
          },
          "execution_count": 15
        }
      ]
    },
    {
      "cell_type": "code",
      "metadata": {
        "id": "kwfiQmdVpM00"
      },
      "source": [
        "df_vax['date'] = pd.to_datetime(df_vax['date'])"
      ],
      "execution_count": null,
      "outputs": []
    },
    {
      "cell_type": "code",
      "metadata": {
        "colab": {
          "base_uri": "https://localhost:8080/"
        },
        "id": "luyq7Q2vo7Mt",
        "outputId": "e6a3490f-2c87-4841-887e-e82156648ca2"
      },
      "source": [
        "df_vax_subset = df_vax[df_vax['location'].eq('New York State')]\n",
        "df_vax_subset.info()"
      ],
      "execution_count": null,
      "outputs": [
        {
          "output_type": "stream",
          "text": [
            "<class 'pandas.core.frame.DataFrame'>\n",
            "Int64Index: 174 entries, 6960 to 7133\n",
            "Data columns (total 14 columns):\n",
            " #   Column                               Non-Null Count  Dtype         \n",
            "---  ------                               --------------  -----         \n",
            " 0   date                                 174 non-null    datetime64[ns]\n",
            " 1   location                             174 non-null    object        \n",
            " 2   total_vaccinations                   169 non-null    float64       \n",
            " 3   total_distributed                    169 non-null    float64       \n",
            " 4   people_vaccinated                    169 non-null    float64       \n",
            " 5   people_fully_vaccinated_per_hundred  168 non-null    float64       \n",
            " 6   total_vaccinations_per_hundred       169 non-null    float64       \n",
            " 7   people_fully_vaccinated              168 non-null    float64       \n",
            " 8   people_vaccinated_per_hundred        169 non-null    float64       \n",
            " 9   distributed_per_hundred              169 non-null    float64       \n",
            " 10  daily_vaccinations_raw               173 non-null    float64       \n",
            " 11  daily_vaccinations                   173 non-null    float64       \n",
            " 12  daily_vaccinations_per_million       173 non-null    float64       \n",
            " 13  share_doses_used                     169 non-null    float64       \n",
            "dtypes: datetime64[ns](1), float64(12), object(1)\n",
            "memory usage: 20.4+ KB\n"
          ],
          "name": "stdout"
        }
      ]
    },
    {
      "cell_type": "code",
      "metadata": {
        "id": "7dpyV8p0scBB"
      },
      "source": [
        "url_cases = 'https://github.com/nytimes/covid-19-data/raw/master/us-states.csv'\n",
        "df_cases = pd.read_csv(url_cases)"
      ],
      "execution_count": null,
      "outputs": []
    },
    {
      "cell_type": "code",
      "metadata": {
        "colab": {
          "base_uri": "https://localhost:8080/",
          "height": 200
        },
        "id": "1LUWKKt_gQTN",
        "outputId": "efd8b3c9-68c0-411e-a2f5-826321cd6070"
      },
      "source": [
        "df_cases.head()"
      ],
      "execution_count": null,
      "outputs": [
        {
          "output_type": "execute_result",
          "data": {
            "text/html": [
              "<div>\n",
              "<style scoped>\n",
              "    .dataframe tbody tr th:only-of-type {\n",
              "        vertical-align: middle;\n",
              "    }\n",
              "\n",
              "    .dataframe tbody tr th {\n",
              "        vertical-align: top;\n",
              "    }\n",
              "\n",
              "    .dataframe thead th {\n",
              "        text-align: right;\n",
              "    }\n",
              "</style>\n",
              "<table border=\"1\" class=\"dataframe\">\n",
              "  <thead>\n",
              "    <tr style=\"text-align: right;\">\n",
              "      <th></th>\n",
              "      <th>date</th>\n",
              "      <th>state</th>\n",
              "      <th>fips</th>\n",
              "      <th>cases</th>\n",
              "      <th>deaths</th>\n",
              "    </tr>\n",
              "  </thead>\n",
              "  <tbody>\n",
              "    <tr>\n",
              "      <th>0</th>\n",
              "      <td>2020-01-21</td>\n",
              "      <td>Washington</td>\n",
              "      <td>53</td>\n",
              "      <td>1</td>\n",
              "      <td>0</td>\n",
              "    </tr>\n",
              "    <tr>\n",
              "      <th>1</th>\n",
              "      <td>2020-01-22</td>\n",
              "      <td>Washington</td>\n",
              "      <td>53</td>\n",
              "      <td>1</td>\n",
              "      <td>0</td>\n",
              "    </tr>\n",
              "    <tr>\n",
              "      <th>2</th>\n",
              "      <td>2020-01-23</td>\n",
              "      <td>Washington</td>\n",
              "      <td>53</td>\n",
              "      <td>1</td>\n",
              "      <td>0</td>\n",
              "    </tr>\n",
              "    <tr>\n",
              "      <th>3</th>\n",
              "      <td>2020-01-24</td>\n",
              "      <td>Illinois</td>\n",
              "      <td>17</td>\n",
              "      <td>1</td>\n",
              "      <td>0</td>\n",
              "    </tr>\n",
              "    <tr>\n",
              "      <th>4</th>\n",
              "      <td>2020-01-24</td>\n",
              "      <td>Washington</td>\n",
              "      <td>53</td>\n",
              "      <td>1</td>\n",
              "      <td>0</td>\n",
              "    </tr>\n",
              "  </tbody>\n",
              "</table>\n",
              "</div>"
            ],
            "text/plain": [
              "         date       state  fips  cases  deaths\n",
              "0  2020-01-21  Washington    53      1       0\n",
              "1  2020-01-22  Washington    53      1       0\n",
              "2  2020-01-23  Washington    53      1       0\n",
              "3  2020-01-24    Illinois    17      1       0\n",
              "4  2020-01-24  Washington    53      1       0"
            ]
          },
          "metadata": {
            "tags": []
          },
          "execution_count": 19
        }
      ]
    },
    {
      "cell_type": "code",
      "metadata": {
        "colab": {
          "base_uri": "https://localhost:8080/"
        },
        "id": "-cW9p6N_gUXD",
        "outputId": "ec0ff0c6-fe2a-463f-9226-6da42edec130"
      },
      "source": [
        "df_cases.shape"
      ],
      "execution_count": null,
      "outputs": [
        {
          "output_type": "execute_result",
          "data": {
            "text/plain": [
              "(26909, 5)"
            ]
          },
          "metadata": {
            "tags": []
          },
          "execution_count": 20
        }
      ]
    },
    {
      "cell_type": "code",
      "metadata": {
        "colab": {
          "base_uri": "https://localhost:8080/",
          "height": 200
        },
        "id": "FOMT0zZMgMtZ",
        "outputId": "5ca0a3f4-690a-4e0e-cda1-f8dd94fa8851"
      },
      "source": [
        "df_cases['date'] = pd.to_datetime(df_cases['date'])\n",
        "df_cases_subset = df_cases[df_cases['state'].eq('New York')]\n",
        "df_cases_subset.head()"
      ],
      "execution_count": null,
      "outputs": [
        {
          "output_type": "execute_result",
          "data": {
            "text/html": [
              "<div>\n",
              "<style scoped>\n",
              "    .dataframe tbody tr th:only-of-type {\n",
              "        vertical-align: middle;\n",
              "    }\n",
              "\n",
              "    .dataframe tbody tr th {\n",
              "        vertical-align: top;\n",
              "    }\n",
              "\n",
              "    .dataframe thead th {\n",
              "        text-align: right;\n",
              "    }\n",
              "</style>\n",
              "<table border=\"1\" class=\"dataframe\">\n",
              "  <thead>\n",
              "    <tr style=\"text-align: right;\">\n",
              "      <th></th>\n",
              "      <th>date</th>\n",
              "      <th>state</th>\n",
              "      <th>fips</th>\n",
              "      <th>cases</th>\n",
              "      <th>deaths</th>\n",
              "    </tr>\n",
              "  </thead>\n",
              "  <tbody>\n",
              "    <tr>\n",
              "      <th>246</th>\n",
              "      <td>2020-03-01</td>\n",
              "      <td>New York</td>\n",
              "      <td>36</td>\n",
              "      <td>1</td>\n",
              "      <td>0</td>\n",
              "    </tr>\n",
              "    <tr>\n",
              "      <th>261</th>\n",
              "      <td>2020-03-02</td>\n",
              "      <td>New York</td>\n",
              "      <td>36</td>\n",
              "      <td>1</td>\n",
              "      <td>0</td>\n",
              "    </tr>\n",
              "    <tr>\n",
              "      <th>276</th>\n",
              "      <td>2020-03-03</td>\n",
              "      <td>New York</td>\n",
              "      <td>36</td>\n",
              "      <td>2</td>\n",
              "      <td>0</td>\n",
              "    </tr>\n",
              "    <tr>\n",
              "      <th>293</th>\n",
              "      <td>2020-03-04</td>\n",
              "      <td>New York</td>\n",
              "      <td>36</td>\n",
              "      <td>11</td>\n",
              "      <td>0</td>\n",
              "    </tr>\n",
              "    <tr>\n",
              "      <th>313</th>\n",
              "      <td>2020-03-05</td>\n",
              "      <td>New York</td>\n",
              "      <td>36</td>\n",
              "      <td>22</td>\n",
              "      <td>0</td>\n",
              "    </tr>\n",
              "  </tbody>\n",
              "</table>\n",
              "</div>"
            ],
            "text/plain": [
              "          date     state  fips  cases  deaths\n",
              "246 2020-03-01  New York    36      1       0\n",
              "261 2020-03-02  New York    36      1       0\n",
              "276 2020-03-03  New York    36      2       0\n",
              "293 2020-03-04  New York    36     11       0\n",
              "313 2020-03-05  New York    36     22       0"
            ]
          },
          "metadata": {
            "tags": []
          },
          "execution_count": 21
        }
      ]
    },
    {
      "cell_type": "code",
      "metadata": {
        "id": "4JCKidQDs5y5",
        "colab": {
          "base_uri": "https://localhost:8080/",
          "height": 290
        },
        "outputId": "70b7634e-602b-4359-f39c-c301c719d018"
      },
      "source": [
        "_ = sns.lineplot(x=df_cases_subset['date'], y=df_cases_subset['cases'])"
      ],
      "execution_count": null,
      "outputs": [
        {
          "output_type": "display_data",
          "data": {
            "image/png": "[encoded data removed]",
            "text/plain": [
              "<Figure size 432x288 with 1 Axes>"
            ]
          },
          "metadata": {
            "tags": [],
            "needs_background": "light"
          }
        }
      ]
    },
    {
      "cell_type": "code",
      "metadata": {
        "id": "MJ7LQu09eUJ4"
      },
      "source": [
        ""
      ],
      "execution_count": null,
      "outputs": []
    }
  ]
}